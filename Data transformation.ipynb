{
 "cells": [
  {
   "cell_type": "markdown",
   "metadata": {},
   "source": [
    "# Transforming and Cleaning ICD11 Data"
   ]
  },
  {
   "cell_type": "code",
   "execution_count": 22,
   "metadata": {},
   "outputs": [
    {
     "data": {
      "text/plain": [
       "[{'label': {'@language': 'en',\n",
       "   '@value': 'injury or harm in therapeutic use of caffeine'}}]"
      ]
     },
     "metadata": {},
     "output_type": "display_data"
    },
    {
     "name": "stdout",
     "output_type": "stream",
     "text": [
      "found exclusions\n",
      "found exclusions\n",
      "found exclusions\n",
      "found exclusions\n",
      "found exclusions\n",
      "found exclusions\n",
      "found exclusions\n",
      "found exclusions\n",
      "found exclusions\n",
      "found exclusions\n",
      "found exclusions\n",
      "found exclusions\n",
      "found exclusions\n",
      "found exclusions\n",
      "found exclusions\n",
      "found exclusions\n",
      "found exclusions\n",
      "found exclusions\n",
      "found exclusions\n",
      "found exclusions\n",
      "found exclusions\n",
      "found exclusions\n",
      "found exclusions\n",
      "found exclusions\n",
      "found exclusions\n",
      "found exclusions\n",
      "found exclusions\n",
      "found exclusions\n",
      "found exclusions\n",
      "found exclusions\n",
      "found exclusions\n"
     ]
    }
   ],
   "source": [
    "import json\n",
    "\n",
    "clean_data = dict()\n",
    "foundation_calls = json.load(open('icd11_foundation.json','r'))\n",
    "for call in foundation_calls:\n",
    "    if 'narrowerTerm' in call.keys():\n",
    "        display(call['narrowerTerm'])\n",
    "        break\n",
    "for call in foundation_calls:\n",
    "    datum = dict()\n",
    "    datum['title'] = call['title']['@value']\n",
    "    datum['browser_url'] = call['browserUrl']\n",
    "    datum['id'] = call['@id'].split('/')[-1]\n",
    "    if 'parent' not in call.keys():\n",
    "        call['parent'] = []\n",
    "    if 'definition'  not in call.keys():\n",
    "        call['definition'] = {\"@value\":''}\n",
    "    if 'exclusion' not in call.keys():\n",
    "        call['exclusion'] = []\n",
    "    if 'inclusion' not in call.keys():\n",
    "        call['inclusion'] = []\n",
    "    if 'synoynm' not in call.keys():\n",
    "        call['synoynm'] = []\n",
    "    if 'narrowerTerm' not in call.keys():\n",
    "        call['narrowerTerm'] = []\n",
    "    parent_nodes = [parent_node.split('/')[-1] for parent_node in call['parent']]\n",
    "    child_nodes = [child_node.split('/')[-1] for child_node in call['child']]\n",
    "    exclusions = list()\n",
    "    inclusions = list()\n",
    "    synonyms = list()\n",
    "    terms = list()\n",
    "    for ex in call['exclusion']:\n",
    "        if 'foundationReference' not in ex.keys():\n",
    "            print('found exclusions')\n",
    "            exclusions.append({'label':ex['label']['@value']})\n",
    "        else:\n",
    "            exclusions.append({'label':ex['label']['@value'], 'id':ex['foundationReference'].split('/')[-1]})\n",
    "    for inc in call['inclusion']:\n",
    "        if 'foundationReference' not in inc.keys():\n",
    "            inclusions.append({'label':inc['label']['@value']})\n",
    "        else:\n",
    "            inclusions.append({'label':inc['label']['@value'], 'id':inc['foundationReference'].split('/')[-1]})\n",
    "    for syn in call['synoynm']:\n",
    "        if 'foundationReference' not in syn.keys():\n",
    "            synonyms.append({'label':syn['label']['@value']})\n",
    "        else:\n",
    "            print('found synonym')\n",
    "            synonyms.append({'label':syn['label']['@value'], 'id':syn['foundationReference'].split('/')[-1]})\n",
    "    for term in call['narrowerTerm']:\n",
    "        if 'foundationReference' not in term.keys():\n",
    "            terms.append(term['label']['@value'])\n",
    "        else:\n",
    "            print('actually happened')\n",
    "            terms.append({'label':term['label']['@value'], 'id':term['foundationReference'].split('/')[-1]})\n",
    "    datum['parent_nodes'] = parent_nodes\n",
    "    datum['parent_nodes'] = parent_nodes\n",
    "    datum['child_nodes'] = child_nodes\n",
    "    datum['definition'] = call['definition']['@value']\n",
    "    datum['exclusions'] = exclusions\n",
    "    datum['inclusions'] = inclusions\n",
    "    datum['synonyms'] = synonyms\n",
    "    datum['narrower_terms'] = terms\n",
    "    clean_data[datum['id']] = datum\n",
    "#change the key for the root node to 'root'\n",
    "clean_data['root'] = clean_data['entity']\n",
    "clean_data.pop('entity')\n",
    "json.dump(clean_data,open('clean_icd11_foundation_data.json','w'))"
   ]
  },
  {
   "cell_type": "code",
   "execution_count": 12,
   "metadata": {},
   "outputs": [
    {
     "name": "stdout",
     "output_type": "stream",
     "text": [
      "Number of codes with exclusions: 2875\n"
     ]
    }
   ],
   "source": [
    "import json\n",
    "count = 0\n",
    "foundation_calls = json.load(open('icd11_foundation.json','r'))\n",
    "for datum in clean_data:\n",
    "    if datum['exclusions']:\n",
    "        count += 1\n",
    "print(f'Number of codes with exclusions: {count}')"
   ]
  },
  {
   "cell_type": "code",
   "execution_count": 32,
   "metadata": {
    "collapsed": true
   },
   "outputs": [],
   "source": [
    "import json\n",
    "from collections import deque\n",
    "clean_data =  json.load(open('clean_icd11_foundation_data.json','r'))\n",
    "root = clean_data['root']\n",
    "child_nodes = deque()\n",
    "initial_nodes = root['child_nodes']\n",
    "for node in initial_nodes:\n",
    "    child_nodes.append(node)\n",
    "    clean_data[node]['siblings'] = set(initial_nodes)\n",
    "while child_nodes:\n",
    "    current_id = child_nodes.popleft()\n",
    "    current_node = clean_data[current_id]\n",
    "    current_children = current_node['child_nodes']\n",
    "    for child_id in current_children:\n",
    "        if 'siblings' not in clean_data[child_id].keys():\n",
    "            clean_data[child_id]['siblings'] = set(current_children)\n",
    "        else:\n",
    "            for new_child_id in current_children:\n",
    "                clean_data[child_id]['siblings'].add(new_child_id)\n",
    "        child_nodes.append(child_id)\n",
    "json.dump(clean_data,open('clean_icd11_foundation_data_v2.json','r'))"
   ]
  },
  {
   "cell_type": "markdown",
   "metadata": {},
   "source": [
    "pretty printing"
   ]
  },
  {
   "cell_type": "code",
   "execution_count": null,
   "metadata": {
    "collapsed": true
   },
   "outputs": [],
   "source": []
  }
 ],
 "metadata": {
  "kernelspec": {
   "display_name": "Python 3",
   "language": "python",
   "name": "python3"
  },
  "language_info": {
   "codemirror_mode": {
    "name": "ipython",
    "version": 3
   },
   "file_extension": ".py",
   "mimetype": "text/x-python",
   "name": "python",
   "nbconvert_exporter": "python",
   "pygments_lexer": "ipython3",
   "version": "3.6.2"
  }
 },
 "nbformat": 4,
 "nbformat_minor": 2
}
