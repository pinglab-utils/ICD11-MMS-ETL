{
 "cells": [
  {
   "cell_type": "markdown",
   "metadata": {},
   "source": [
    "# Checking Data integrity"
   ]
  },
  {
   "cell_type": "markdown",
   "metadata": {},
   "source": [
    "## Basic data invariants\n",
    "We want to check:\n",
    "1. Every child id is in the data set.\n",
    "2. Every parent id is in the dataset.\n",
    "3. Every parent_nodes field has either 0 or 1 elements, 0 for the root node only.\n",
    "4. Every json has the exact same fields.\n",
    "5. Every json has the same number of fields.\n",
    "6. Set of all child nodes is equivalent to set of all nodes minus the root node.\n",
    "7. Union of child nodes and parent nodes is equal to set of all nodes.\n",
    "\n",
    "Below is the script we use to check for these conditions."
   ]
  },
  {
   "cell_type": "code",
   "execution_count": 1,
   "metadata": {},
   "outputs": [],
   "source": [
    "import json\n",
    "#All the keys we have documented\n",
    "valid_keys = set(['child_nodes','title','id','parent_nodes','index_terms','code','coding_note',\\\n",
    "              'class_kind','code_range','inclusions','definition','exclusions','block_id','p_scale'])\n",
    "\n",
    "# our cleaned data\n",
    "clean_data = json.load(open('clean_icd11_mms_v3.json','r'))\n",
    "clean_dicts = {clean_dict['id']:clean_dict for clean_dict in clean_data}\n",
    "\n",
    "parents = set()\n",
    "children = set()\n",
    "fields = set()\n",
    "#Set of all ids\n",
    "all_ids = set(clean_dicts.keys())\n",
    "for datum in clean_data:\n",
    "    \n",
    "    # 1. making sure this id is in our set of ids\n",
    "    assert datum['id'] in all_ids\n",
    "    \n",
    "    # 2. making sure every child node is in the set of all valid ids\n",
    "    for child_node in datum['child_nodes']:\n",
    "        assert child_node in all_ids\n",
    "        \n",
    "    # 3. making sure there are the correct number of nodes in parent_nodes field\n",
    "    # 1 for normal nodes and 0 for root\n",
    "    assert  len(datum['parent_nodes']) == 1 or (len(datum['parent_nodes']) == 0 and datum['id'] == 'mms')\n",
    "    \n",
    "    # set up for 4.\n",
    "    fields.add(tuple(datum.keys()))\n",
    "    \n",
    "    # 5. making sure every json has the same number of fields\n",
    "    assert len(datum.keys()) == len(valid_keys)\n",
    "    \n",
    "    # create the set of child nodes and parentnodes\n",
    "    for node in datum['child_nodes']:\n",
    "        children.add(node)\n",
    "    for node in datum['parent_nodes']:\n",
    "            parents.add(node)\n",
    "            \n",
    "# 6. check that the set of child nodes is equal to the set of all nodes minus the root node\n",
    "assert children == (all_ids - set(['mms']))\n",
    "\n",
    "# 7. check union of children and parent nodes gives all nodes in the data set\n",
    "assert children.union(parents) == all_ids\n",
    "\n",
    "# checking 4. making sure theres only one set of keys and that its equivalent to valid_keys\n",
    "assert set(list(fields)[0]) == set(valid_keys) and len(fields) == 1\n",
    "print('All basic tests passed')"
   ]
  }
 ],
 "metadata": {
  "kernelspec": {
   "display_name": "Python 3",
   "language": "python",
   "name": "python3"
  },
  "language_info": {
   "codemirror_mode": {
    "name": "ipython",
    "version": 3
   },
   "file_extension": ".py",
   "mimetype": "text/x-python",
   "name": "python",
   "nbconvert_exporter": "python",
   "pygments_lexer": "ipython3",
   "version": "3.6.2"
  }
 },
 "nbformat": 4,
 "nbformat_minor": 2
}
