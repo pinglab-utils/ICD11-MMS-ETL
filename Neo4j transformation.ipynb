{
 "cells": [
  {
   "cell_type": "markdown",
   "metadata": {},
   "source": [
    "We want to turn our json file into a format that is easy for Neo4j to accept. After some searching using the APOC library and reading this article we can do the following to import our entire json file into Neo4j.\n",
    "1. create a new json where each json in our original list of jsons is the value in a key value pair of 'props': original json\n",
    "\n"
   ]
  },
  {
   "cell_type": "code",
   "execution_count": 6,
   "metadata": {
    "collapsed": true
   },
   "outputs": [],
   "source": [
    "import json\n",
    "\n",
    "clean_data = json.load(open('clean_icd11_mms_v3.json','r'))\n",
    "mms_graph_data = [{'props':{'title':node['title'], 'id':node['id'], 'child_nodes':node['child_nodes']}} for node in clean_data]\n",
    "json.dump(mms_graph_data,open('clean_mms_graph_data.json','w'))"
   ]
  }
 ],
 "metadata": {
  "kernelspec": {
   "display_name": "Python 3",
   "language": "python",
   "name": "python3"
  },
  "language_info": {
   "codemirror_mode": {
    "name": "ipython",
    "version": 3
   },
   "file_extension": ".py",
   "mimetype": "text/x-python",
   "name": "python",
   "nbconvert_exporter": "python",
   "pygments_lexer": "ipython3",
   "version": "3.6.2"
  }
 },
 "nbformat": 4,
 "nbformat_minor": 2
}
